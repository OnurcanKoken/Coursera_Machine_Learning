{
  "nbformat": 4,
  "nbformat_minor": 0,
  "metadata": {
    "colab": {
      "name": "Week_1_Gradient-Tape-Basics.ipynb",
      "provenance": [],
      "include_colab_link": true
    },
    "kernelspec": {
      "display_name": "Python 3",
      "language": "python",
      "name": "python3"
    },
    "language_info": {
      "codemirror_mode": {
        "name": "ipython",
        "version": 3
      },
      "file_extension": ".py",
      "mimetype": "text/x-python",
      "name": "python",
      "nbconvert_exporter": "python",
      "pygments_lexer": "ipython3",
      "version": "3.7.6"
    }
  },
  "cells": [
    {
      "cell_type": "markdown",
      "metadata": {
        "id": "view-in-github",
        "colab_type": "text"
      },
      "source": [
        "<a href=\"https://colab.research.google.com/github/OnurcanKoken/AI_on_Jetson_Nano/blob/master/Custom_Distributed_Training_TF/Week_1_Gradient_Tape_Basics.ipynb\" target=\"_parent\"><img src=\"https://colab.research.google.com/assets/colab-badge.svg\" alt=\"Open In Colab\"/></a>"
      ]
    },
    {
      "cell_type": "markdown",
      "metadata": {
        "id": "RDe9YHZ8MXB2"
      },
      "source": [
        "# Gradient Tape"
      ]
    },
    {
      "cell_type": "markdown",
      "metadata": {
        "id": "KrJvi3VBMVVV"
      },
      "source": [
        "Intensive flow optimizers are implemented using TensorFlow automatic differentiation API call Gradient Tape. This API lets you compute and track the gradient of every differentiable TensorFlow operation."
      ]
    },
    {
      "cell_type": "markdown",
      "metadata": {
        "id": "dPTGMhaMLdJq"
      },
      "source": [
        "# Gradient Tape Basics\n",
        "\n",
        "In this ungraded lab, you'll get familiar with Tensorflow's built in API called Gradient Tape which helps in performing automatic differentiation."
      ]
    },
    {
      "cell_type": "markdown",
      "metadata": {
        "id": "ByloT1oSLdJw"
      },
      "source": [
        "## Imports"
      ]
    },
    {
      "cell_type": "code",
      "metadata": {
        "id": "uQe_MWjNPQkR"
      },
      "source": [
        "import tensorflow as tf"
      ],
      "execution_count": 1,
      "outputs": []
    },
    {
      "cell_type": "markdown",
      "metadata": {
        "id": "UdLkjKSsLdJy"
      },
      "source": [
        "## Exercise on basics of Gradient Tape\n",
        "\n",
        "Let's explore how you can use [tf.GradientTape()](https://www.tensorflow.org/api_docs/python/tf/GradientTape) to do automatic differentiation."
      ]
    },
    {
      "cell_type": "code",
      "metadata": {
        "colab": {
          "base_uri": "https://localhost:8080/"
        },
        "id": "57Vnn9iIPNh9",
        "outputId": "593a83be-cc67-4634-a4c9-f4f57ae00492"
      },
      "source": [
        "# Define a 2x2 array of 1's\n",
        "x = tf.ones((2,2))\n",
        "\n",
        "with tf.GradientTape() as t:\n",
        "    # Record the actions performed on tensor x with `watch`\n",
        "    t.watch(x) \n",
        "\n",
        "    # Define y as the sum of the elements in x\n",
        "    y =  tf.reduce_sum(x)\n",
        "\n",
        "    # Let z be the square of y\n",
        "    z = tf.square(y) \n",
        "\n",
        "# Get the derivative of z wrt the original input tensor x\n",
        "dz_dx = t.gradient(z, x)\n",
        "\n",
        "# Print our result\n",
        "print(dz_dx)"
      ],
      "execution_count": 2,
      "outputs": [
        {
          "output_type": "stream",
          "name": "stdout",
          "text": [
            "tf.Tensor(\n",
            "[[8. 8.]\n",
            " [8. 8.]], shape=(2, 2), dtype=float32)\n"
          ]
        }
      ]
    },
    {
      "cell_type": "markdown",
      "metadata": {
        "id": "z-7l0At4LdJ0"
      },
      "source": [
        "### Gradient tape expires after one use, by default\n",
        "\n",
        "If you want to compute multiple gradients, note that by default, GradientTape is not persistent (`persistent=False`).  This means that the GradientTape will expire after you use it to calculate a gradient.\n",
        "\n",
        "To see this, set up gradient tape as usual and calculate a gradient, so that the gradient tape will be 'expired'."
      ]
    },
    {
      "cell_type": "code",
      "metadata": {
        "colab": {
          "base_uri": "https://localhost:8080/"
        },
        "id": "P-4ode-ULdJ0",
        "outputId": "98348319-d8b6-4601-be38-f0bcbb51298e"
      },
      "source": [
        "x = tf.constant(3.0)\n",
        "\n",
        "# Notice that persistent is False by default\n",
        "with tf.GradientTape() as t:\n",
        "    t.watch(x)\n",
        "    \n",
        "    # y = x^2\n",
        "    y = x * x\n",
        "    \n",
        "    # z = y^2\n",
        "    z = y * y\n",
        "\n",
        "# Compute dz/dx. 4 * x^3 at x = 3 --> 108.0\n",
        "dz_dx = t.gradient(z, x)\n",
        "print(dz_dx)"
      ],
      "execution_count": 3,
      "outputs": [
        {
          "output_type": "stream",
          "name": "stdout",
          "text": [
            "tf.Tensor(108.0, shape=(), dtype=float32)\n"
          ]
        }
      ]
    },
    {
      "cell_type": "markdown",
      "metadata": {
        "id": "rFNfBW6aLdJ1"
      },
      "source": [
        "#### Gradient tape has expired\n",
        "\n",
        "See what happens if you try to calculate another gradient after you've already used gradient tape once."
      ]
    },
    {
      "cell_type": "code",
      "metadata": {
        "colab": {
          "base_uri": "https://localhost:8080/"
        },
        "id": "RJ_aSO4PLdJ1",
        "outputId": "b9e71c65-0990-4052-dad2-64be126b1470"
      },
      "source": [
        "# If you try to compute dy/dx after the gradient tape has expired:\n",
        "try:\n",
        "    dy_dx = t.gradient(y, x)  # 6.0\n",
        "    print(dy_dx)\n",
        "except RuntimeError as e:\n",
        "    print(\"The error message you get is:\")\n",
        "    print(e)"
      ],
      "execution_count": 4,
      "outputs": [
        {
          "output_type": "stream",
          "name": "stdout",
          "text": [
            "The error message you get is:\n",
            "A non-persistent GradientTape can only be used to compute one set of gradients (or jacobians)\n"
          ]
        }
      ]
    },
    {
      "cell_type": "markdown",
      "metadata": {
        "id": "Q1yaU-H0LdJ2"
      },
      "source": [
        "### Make the gradient tape persistent\n",
        "To make sure that the gradient tape can be used multiple times, set `persistent=True` "
      ]
    },
    {
      "cell_type": "code",
      "metadata": {
        "colab": {
          "base_uri": "https://localhost:8080/"
        },
        "id": "P12ExatAPqn6",
        "outputId": "8f8082fd-4fde-4f6d-fa2c-92fdcb55b6c5"
      },
      "source": [
        "x = tf.constant(3.0)\n",
        "\n",
        "# Set persistent=True so that you can reuse the tape\n",
        "with tf.GradientTape(persistent=True) as t:\n",
        "    t.watch(x)\n",
        "    \n",
        "    # y = x^2\n",
        "    y = x * x\n",
        "    \n",
        "    # z = y^2\n",
        "    z = y * y\n",
        "\n",
        "# Compute dz/dx. 4 * x^3 at x = 3 --> 108.0\n",
        "dz_dx = t.gradient(z, x)\n",
        "print(dz_dx)"
      ],
      "execution_count": 5,
      "outputs": [
        {
          "output_type": "stream",
          "name": "stdout",
          "text": [
            "tf.Tensor(108.0, shape=(), dtype=float32)\n"
          ]
        }
      ]
    },
    {
      "cell_type": "markdown",
      "metadata": {
        "id": "ZVe_3VPILdJ3"
      },
      "source": [
        "#### Now that it's persistent, you can still reuse this tape!\n",
        "\n",
        "Try calculating a second gradient on this persistent tape."
      ]
    },
    {
      "cell_type": "code",
      "metadata": {
        "colab": {
          "base_uri": "https://localhost:8080/"
        },
        "id": "5VxGTcNkLdJ3",
        "outputId": "1a23fdce-c186-4973-8e6d-a1ee91a221db"
      },
      "source": [
        "# You can still compute dy/dx because of the persistent flag.\n",
        "dy_dx = t.gradient(y, x)  # 6.0\n",
        "print(dy_dx)"
      ],
      "execution_count": 6,
      "outputs": [
        {
          "output_type": "stream",
          "name": "stdout",
          "text": [
            "tf.Tensor(6.0, shape=(), dtype=float32)\n"
          ]
        }
      ]
    },
    {
      "cell_type": "markdown",
      "metadata": {
        "id": "clVQ88WiLdJ3"
      },
      "source": [
        "Great! It still works!  Delete the tape variable `t` once you no longer need it."
      ]
    },
    {
      "cell_type": "code",
      "metadata": {
        "id": "pgXXVjG0LdJ4"
      },
      "source": [
        "# Drop the reference to the tape\n",
        "del t  "
      ],
      "execution_count": 7,
      "outputs": []
    },
    {
      "cell_type": "markdown",
      "metadata": {
        "id": "sibBfi55LdJ4"
      },
      "source": [
        "### Nested Gradient tapes\n",
        "Now let's try computing a higher order derivative by nesting the `GradientTapes:`\n",
        "\n",
        "#### Acceptable indentation of the first gradient calculation\n",
        "Keep in mind that you'll want to make sure that the first gradient calculation of `dy_dx` should occur at least inside the outer `with` block."
      ]
    },
    {
      "cell_type": "code",
      "metadata": {
        "colab": {
          "base_uri": "https://localhost:8080/"
        },
        "id": "UxNLeFLlP4qU",
        "outputId": "b6c4c4d4-e7f3-4da8-8f6c-b68fa6009f3f"
      },
      "source": [
        "x = tf.Variable(1.0)\n",
        "\n",
        "with tf.GradientTape() as tape_2:\n",
        "    with tf.GradientTape() as tape_1:\n",
        "        y = x * x * x\n",
        "    \n",
        "    # The first gradient calculation should occur at leaset\n",
        "    # within the outer with block\n",
        "    dy_dx = tape_1.gradient(y, x)\n",
        "d2y_dx2 = tape_2.gradient(dy_dx, x)\n",
        "\n",
        "print(dy_dx)\n",
        "print(d2y_dx2)"
      ],
      "execution_count": 8,
      "outputs": [
        {
          "output_type": "stream",
          "name": "stdout",
          "text": [
            "tf.Tensor(3.0, shape=(), dtype=float32)\n",
            "tf.Tensor(6.0, shape=(), dtype=float32)\n"
          ]
        }
      ]
    },
    {
      "cell_type": "markdown",
      "metadata": {
        "id": "B2QDlqDpLdJ5"
      },
      "source": [
        "The first gradient calculation can also be inside the inner with block."
      ]
    },
    {
      "cell_type": "code",
      "metadata": {
        "colab": {
          "base_uri": "https://localhost:8080/"
        },
        "id": "3GNlz-qrLdJ6",
        "outputId": "4c58d1d2-9a10-4098-9e19-2171f89e975a"
      },
      "source": [
        "x = tf.Variable(1.0)\n",
        "\n",
        "with tf.GradientTape() as tape_2:\n",
        "    with tf.GradientTape() as tape_1:\n",
        "        y = x * x * x\n",
        "    \n",
        "        # The first gradient calculation can also be within the inner with block\n",
        "        dy_dx = tape_1.gradient(y, x)\n",
        "d2y_dx2 = tape_2.gradient(dy_dx, x)\n",
        "\n",
        "print(dy_dx)\n",
        "print(d2y_dx2)"
      ],
      "execution_count": 9,
      "outputs": [
        {
          "output_type": "stream",
          "name": "stdout",
          "text": [
            "tf.Tensor(3.0, shape=(), dtype=float32)\n",
            "tf.Tensor(6.0, shape=(), dtype=float32)\n"
          ]
        }
      ]
    },
    {
      "cell_type": "markdown",
      "metadata": {
        "id": "p2t-7iUpLdJ6"
      },
      "source": [
        "#### Where not to indent the first gradient calculation\n",
        "If the first gradient calculation is OUTSIDE of the outer `with` block, it won't persist for the second gradient calculation."
      ]
    },
    {
      "cell_type": "code",
      "metadata": {
        "colab": {
          "base_uri": "https://localhost:8080/"
        },
        "id": "JLE89eXiLdJ6",
        "outputId": "8b2fb716-25a2-4505-8d71-26f587dc22d1"
      },
      "source": [
        "x = tf.Variable(1.0)\n",
        "\n",
        "with tf.GradientTape() as tape_2:\n",
        "    with tf.GradientTape() as tape_1:\n",
        "        y = x * x * x\n",
        "\n",
        "# The first gradient call is outside the outer with block\n",
        "# so the tape will expire after this\n",
        "dy_dx = tape_1.gradient(y, x)\n",
        "\n",
        "# The tape is now expired and the gradient output will be `None`\n",
        "d2y_dx2 = tape_2.gradient(dy_dx, x)\n",
        "\n",
        "print(dy_dx)\n",
        "print(d2y_dx2)"
      ],
      "execution_count": 10,
      "outputs": [
        {
          "output_type": "stream",
          "name": "stdout",
          "text": [
            "tf.Tensor(3.0, shape=(), dtype=float32)\n",
            "None\n"
          ]
        }
      ]
    },
    {
      "cell_type": "markdown",
      "metadata": {
        "id": "XoUrrU1VLdJ7"
      },
      "source": [
        "Notice how the `d2y_dx2` calculation is now `None`.  The tape has expired.  Also note that this still won't work even if you set persistent=True for both gradient tapes."
      ]
    },
    {
      "cell_type": "code",
      "metadata": {
        "colab": {
          "base_uri": "https://localhost:8080/"
        },
        "id": "bDyGZyPKLdJ7",
        "outputId": "833d9c6f-4877-433d-f619-265fdb4410f6"
      },
      "source": [
        "x = tf.Variable(1.0)\n",
        "\n",
        "# Setting persistent=True still won't work\n",
        "with tf.GradientTape(persistent=True) as tape_2:\n",
        "    # Setting persistent=True still won't work\n",
        "    with tf.GradientTape(persistent=True) as tape_1:\n",
        "        y = x * x * x\n",
        "\n",
        "# The first gradient call is outside the outer with block\n",
        "# so the tape will expire after this\n",
        "dy_dx = tape_1.gradient(y, x)\n",
        "\n",
        "# the output will be `None`\n",
        "d2y_dx2 = tape_2.gradient(dy_dx, x)\n",
        "\n",
        "print(dy_dx)\n",
        "print(d2y_dx2)"
      ],
      "execution_count": 11,
      "outputs": [
        {
          "output_type": "stream",
          "name": "stdout",
          "text": [
            "tf.Tensor(3.0, shape=(), dtype=float32)\n",
            "None\n"
          ]
        }
      ]
    },
    {
      "cell_type": "markdown",
      "metadata": {
        "id": "1WEy0fODLdJ7"
      },
      "source": [
        "### Proper indentation for the second gradient calculation\n",
        "\n",
        "The second gradient calculation `d2y_dx2` can be indented as much as the first calculation of `dy_dx` but not more."
      ]
    },
    {
      "cell_type": "code",
      "metadata": {
        "colab": {
          "base_uri": "https://localhost:8080/"
        },
        "id": "6GQYXe5SLdJ8",
        "outputId": "d4e8eebd-9c1d-4776-a898-37a10718c42f"
      },
      "source": [
        "x = tf.Variable(1.0)\n",
        "\n",
        "with tf.GradientTape() as tape_2:\n",
        "    with tf.GradientTape() as tape_1:\n",
        "        y = x * x * x\n",
        "\n",
        "        dy_dx = tape_1.gradient(y, x)\n",
        "        \n",
        "        # this is acceptable\n",
        "        d2y_dx2 = tape_2.gradient(dy_dx, x)\n",
        "\n",
        "print(dy_dx)\n",
        "print(d2y_dx2)"
      ],
      "execution_count": 12,
      "outputs": [
        {
          "output_type": "stream",
          "name": "stdout",
          "text": [
            "tf.Tensor(3.0, shape=(), dtype=float32)\n",
            "tf.Tensor(6.0, shape=(), dtype=float32)\n"
          ]
        }
      ]
    },
    {
      "cell_type": "markdown",
      "metadata": {
        "id": "B2tRGrlNLdJ8"
      },
      "source": [
        "This is also acceptable"
      ]
    },
    {
      "cell_type": "code",
      "metadata": {
        "colab": {
          "base_uri": "https://localhost:8080/"
        },
        "id": "dohjRwYuLdJ8",
        "outputId": "9be16947-14ec-4cfe-e573-321ecefffcde"
      },
      "source": [
        "x = tf.Variable(1.0)\n",
        "\n",
        "with tf.GradientTape() as tape_2:\n",
        "    with tf.GradientTape() as tape_1:\n",
        "        y = x * x * x\n",
        "\n",
        "        dy_dx = tape_1.gradient(y, x)\n",
        "        \n",
        "    # this is also acceptable\n",
        "    d2y_dx2 = tape_2.gradient(dy_dx, x)\n",
        "\n",
        "print(dy_dx)\n",
        "print(d2y_dx2)"
      ],
      "execution_count": 13,
      "outputs": [
        {
          "output_type": "stream",
          "name": "stdout",
          "text": [
            "tf.Tensor(3.0, shape=(), dtype=float32)\n",
            "tf.Tensor(6.0, shape=(), dtype=float32)\n"
          ]
        }
      ]
    },
    {
      "cell_type": "markdown",
      "metadata": {
        "id": "jxqnF2GyLdJ8"
      },
      "source": [
        "This is also acceptable"
      ]
    },
    {
      "cell_type": "code",
      "metadata": {
        "colab": {
          "base_uri": "https://localhost:8080/"
        },
        "id": "DT8C_VEMLdJ9",
        "outputId": "e94aa12b-0a70-4afe-952b-28d9bbeb9e7b"
      },
      "source": [
        "x = tf.Variable(1.0)\n",
        "\n",
        "with tf.GradientTape() as tape_2:\n",
        "    with tf.GradientTape() as tape_1:\n",
        "        y = x * x * x\n",
        "\n",
        "        dy_dx = tape_1.gradient(y, x)\n",
        "        \n",
        "# this is also acceptable\n",
        "d2y_dx2 = tape_2.gradient(dy_dx, x)\n",
        "\n",
        "print(dy_dx)\n",
        "print(d2y_dx2)"
      ],
      "execution_count": 14,
      "outputs": [
        {
          "output_type": "stream",
          "name": "stdout",
          "text": [
            "tf.Tensor(3.0, shape=(), dtype=float32)\n",
            "tf.Tensor(6.0, shape=(), dtype=float32)\n"
          ]
        }
      ]
    },
    {
      "cell_type": "code",
      "metadata": {
        "id": "wWg7_IVZb8iI"
      },
      "source": [
        ""
      ],
      "execution_count": null,
      "outputs": []
    }
  ]
}