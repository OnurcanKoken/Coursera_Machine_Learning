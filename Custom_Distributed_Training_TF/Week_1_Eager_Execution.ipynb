{
  "nbformat": 4,
  "nbformat_minor": 0,
  "metadata": {
    "colab": {
      "name": "Week_1_Eager_Execution.ipynb",
      "provenance": [],
      "authorship_tag": "ABX9TyOeewpethlNw+NyN3iwT2ZV",
      "include_colab_link": true
    },
    "kernelspec": {
      "name": "python3",
      "display_name": "Python 3"
    },
    "language_info": {
      "name": "python"
    }
  },
  "cells": [
    {
      "cell_type": "markdown",
      "metadata": {
        "id": "view-in-github",
        "colab_type": "text"
      },
      "source": [
        "<a href=\"https://colab.research.google.com/github/OnurcanKoken/Coursera_Machine_Learning/blob/main/Custom_Distributed_Training_TF/Week_1_Eager_Execution.ipynb\" target=\"_parent\"><img src=\"https://colab.research.google.com/assets/colab-badge.svg\" alt=\"Open In Colab\"/></a>"
      ]
    },
    {
      "cell_type": "code",
      "metadata": {
        "id": "rm_FcpV_EXwg"
      },
      "source": [
        "import tensorflow as tf\n",
        "import numpy as np"
      ],
      "execution_count": 1,
      "outputs": []
    },
    {
      "cell_type": "markdown",
      "metadata": {
        "id": "FlkuNj_AFqtO"
      },
      "source": [
        "Evaluate Tensors"
      ]
    },
    {
      "cell_type": "code",
      "metadata": {
        "colab": {
          "base_uri": "https://localhost:8080/"
        },
        "id": "tzAy6_CqEbUE",
        "outputId": "c008ac20-c246-4c0f-e3ce-ef2af7991551"
      },
      "source": [
        "x = 2\n",
        "x_squared = tf.square(x)\n",
        "print(\"hello, {}\".format(x_squared)) # eager mode is on"
      ],
      "execution_count": 4,
      "outputs": [
        {
          "output_type": "stream",
          "name": "stdout",
          "text": [
            "hello, 4\n"
          ]
        }
      ]
    },
    {
      "cell_type": "markdown",
      "metadata": {
        "id": "UCZFfOnYFslY"
      },
      "source": [
        "Bradcast values"
      ]
    },
    {
      "cell_type": "code",
      "metadata": {
        "colab": {
          "base_uri": "https://localhost:8080/"
        },
        "id": "9cqG05q2Flhd",
        "outputId": "8ffdd44a-1b37-44a3-cd99-9757eca0f59a"
      },
      "source": [
        "a = tf.constant([[1, 2], [3, 4]])\n",
        "tf.add(a, 1)"
      ],
      "execution_count": 5,
      "outputs": [
        {
          "output_type": "execute_result",
          "data": {
            "text/plain": [
              "<tf.Tensor: shape=(2, 2), dtype=int32, numpy=\n",
              "array([[2, 3],\n",
              "       [4, 5]], dtype=int32)>"
            ]
          },
          "metadata": {},
          "execution_count": 5
        }
      ]
    },
    {
      "cell_type": "markdown",
      "metadata": {
        "id": "SZEENkqDGQbt"
      },
      "source": [
        "Overload operators"
      ]
    },
    {
      "cell_type": "code",
      "metadata": {
        "colab": {
          "base_uri": "https://localhost:8080/"
        },
        "id": "LI36W7NvGIBO",
        "outputId": "218ed9c9-efbf-4cd2-9fc9-3fd8ed26f2f7"
      },
      "source": [
        "a = tf.constant([[1, 2], [3, 4]])\n",
        "a**2"
      ],
      "execution_count": 6,
      "outputs": [
        {
          "output_type": "execute_result",
          "data": {
            "text/plain": [
              "<tf.Tensor: shape=(2, 2), dtype=int32, numpy=\n",
              "array([[ 1,  4],\n",
              "       [ 9, 16]], dtype=int32)>"
            ]
          },
          "metadata": {},
          "execution_count": 6
        }
      ]
    },
    {
      "cell_type": "code",
      "metadata": {
        "colab": {
          "base_uri": "https://localhost:8080/"
        },
        "id": "jQvTgQxJGggL",
        "outputId": "273a0dda-c2c9-465e-edf9-4ff399f53400"
      },
      "source": [
        "a = tf.constant(5)\n",
        "b = tf.constant(3)\n",
        "np.multiply(a, b)"
      ],
      "execution_count": 7,
      "outputs": [
        {
          "output_type": "execute_result",
          "data": {
            "text/plain": [
              "15"
            ]
          },
          "metadata": {},
          "execution_count": 7
        }
      ]
    },
    {
      "cell_type": "markdown",
      "metadata": {
        "id": "2hcf7U5-G_7V"
      },
      "source": [
        "Numpy interoperability"
      ]
    },
    {
      "cell_type": "code",
      "metadata": {
        "colab": {
          "base_uri": "https://localhost:8080/"
        },
        "id": "6ei99SSEGuoD",
        "outputId": "ccb206b0-377f-4ec8-8016-28ac9508b017"
      },
      "source": [
        "ndarray = np.ones([3, 3])\n",
        "ndarray"
      ],
      "execution_count": 8,
      "outputs": [
        {
          "output_type": "execute_result",
          "data": {
            "text/plain": [
              "array([[1., 1., 1.],\n",
              "       [1., 1., 1.],\n",
              "       [1., 1., 1.]])"
            ]
          },
          "metadata": {},
          "execution_count": 8
        }
      ]
    },
    {
      "cell_type": "code",
      "metadata": {
        "colab": {
          "base_uri": "https://localhost:8080/"
        },
        "id": "6c1akkgkHIeW",
        "outputId": "92781d0b-ca44-4ca7-a6ee-0bc4e188e5c8"
      },
      "source": [
        "tensor = tf.multiply(ndarray, 3)\n",
        "tensor"
      ],
      "execution_count": 10,
      "outputs": [
        {
          "output_type": "execute_result",
          "data": {
            "text/plain": [
              "<tf.Tensor: shape=(3, 3), dtype=float64, numpy=\n",
              "array([[3., 3., 3.],\n",
              "       [3., 3., 3.],\n",
              "       [3., 3., 3.]])>"
            ]
          },
          "metadata": {},
          "execution_count": 10
        }
      ]
    },
    {
      "cell_type": "code",
      "metadata": {
        "colab": {
          "base_uri": "https://localhost:8080/"
        },
        "id": "4ko1Py8DHMO5",
        "outputId": "f6d8ffd1-2505-4c62-94f9-ff813d8b4681"
      },
      "source": [
        "tensor.numpy()"
      ],
      "execution_count": 11,
      "outputs": [
        {
          "output_type": "execute_result",
          "data": {
            "text/plain": [
              "array([[3., 3., 3.],\n",
              "       [3., 3., 3.],\n",
              "       [3., 3., 3.]])"
            ]
          },
          "metadata": {},
          "execution_count": 11
        }
      ]
    },
    {
      "cell_type": "markdown",
      "metadata": {
        "id": "8W4iZIqmH3aB"
      },
      "source": [
        "Evaluating Variable Applications"
      ]
    },
    {
      "cell_type": "code",
      "metadata": {
        "colab": {
          "base_uri": "https://localhost:8080/"
        },
        "id": "wK-j0GkeHO0W",
        "outputId": "c20d44a0-5909-42b9-db23-11f39148fae8"
      },
      "source": [
        "v = tf.Variable(0.0)\n",
        "v + 1"
      ],
      "execution_count": 12,
      "outputs": [
        {
          "output_type": "execute_result",
          "data": {
            "text/plain": [
              "<tf.Tensor: shape=(), dtype=float32, numpy=1.0>"
            ]
          },
          "metadata": {},
          "execution_count": 12
        }
      ]
    },
    {
      "cell_type": "code",
      "metadata": {
        "colab": {
          "base_uri": "https://localhost:8080/"
        },
        "id": "EbmXz5h5H-Q-",
        "outputId": "530183b5-f5f2-4f4d-b665-808ec12ccafd"
      },
      "source": [
        "v = tf.Variable(0)\n",
        "v.assign_add(1)"
      ],
      "execution_count": 14,
      "outputs": [
        {
          "output_type": "execute_result",
          "data": {
            "text/plain": [
              "<tf.Variable 'UnreadVariable' shape=() dtype=int32, numpy=1>"
            ]
          },
          "metadata": {},
          "execution_count": 14
        }
      ]
    },
    {
      "cell_type": "code",
      "metadata": {
        "colab": {
          "base_uri": "https://localhost:8080/"
        },
        "id": "kO2KF1NXIHxa",
        "outputId": "0967ef0f-e4d9-4fec-d382-a5c9bbd6bfa5"
      },
      "source": [
        "v = tf.Variable(0.0)\n",
        "v.assign_add(1)\n",
        "v"
      ],
      "execution_count": 18,
      "outputs": [
        {
          "output_type": "execute_result",
          "data": {
            "text/plain": [
              "<tf.Variable 'Variable:0' shape=() dtype=float32, numpy=1.0>"
            ]
          },
          "metadata": {},
          "execution_count": 18
        }
      ]
    },
    {
      "cell_type": "code",
      "metadata": {
        "colab": {
          "base_uri": "https://localhost:8080/"
        },
        "id": "aZRod3XwIXjq",
        "outputId": "1712e518-9aec-4283-b907-10aeaac2b541"
      },
      "source": [
        "v.read_value()"
      ],
      "execution_count": 19,
      "outputs": [
        {
          "output_type": "execute_result",
          "data": {
            "text/plain": [
              "<tf.Tensor: shape=(), dtype=float32, numpy=1.0>"
            ]
          },
          "metadata": {},
          "execution_count": 19
        }
      ]
    },
    {
      "cell_type": "code",
      "metadata": {
        "colab": {
          "base_uri": "https://localhost:8080/"
        },
        "id": "ivfCpKMZID1t",
        "outputId": "2da17c96-8f6f-4a9a-e42a-11fca954ed2f"
      },
      "source": [
        "v.read_value().numpy()"
      ],
      "execution_count": 20,
      "outputs": [
        {
          "output_type": "execute_result",
          "data": {
            "text/plain": [
              "1.0"
            ]
          },
          "metadata": {},
          "execution_count": 20
        }
      ]
    },
    {
      "cell_type": "markdown",
      "metadata": {
        "id": "Qg7F0CZIIwiR"
      },
      "source": [
        "Examine custom layers"
      ]
    },
    {
      "cell_type": "code",
      "metadata": {
        "colab": {
          "base_uri": "https://localhost:8080/"
        },
        "id": "sYK6pRm8IRrv",
        "outputId": "304fb402-3f62-4dfe-e6e3-65a1684224ca"
      },
      "source": [
        "class MyLayer(tf.keras.layers.Layer):\n",
        "  def __init__(self):\n",
        "    super(MyLayer, self).__init__()\n",
        "    self.my_var = tf.Variable(100)\n",
        "    self.my_other_var_list = [tf.Variable(x) for x in range(2)]\n",
        "\n",
        "m = MyLayer()\n",
        "# calls each tensor object\n",
        "[variable.numpy() for variable in m.variables]"
      ],
      "execution_count": 21,
      "outputs": [
        {
          "output_type": "execute_result",
          "data": {
            "text/plain": [
              "[100, 0, 1]"
            ]
          },
          "metadata": {},
          "execution_count": 21
        }
      ]
    },
    {
      "cell_type": "markdown",
      "metadata": {
        "id": "NEuYR40AJ8JU"
      },
      "source": [
        "Change data types"
      ]
    },
    {
      "cell_type": "code",
      "metadata": {
        "colab": {
          "base_uri": "https://localhost:8080/"
        },
        "id": "FGdKKX27IUJr",
        "outputId": "ea5cba61-55e8-4084-b0fc-dda03d277bb8"
      },
      "source": [
        "tensor = tf.constant([1, 2, 3])\n",
        "tensor"
      ],
      "execution_count": 22,
      "outputs": [
        {
          "output_type": "execute_result",
          "data": {
            "text/plain": [
              "<tf.Tensor: shape=(3,), dtype=int32, numpy=array([1, 2, 3], dtype=int32)>"
            ]
          },
          "metadata": {},
          "execution_count": 22
        }
      ]
    },
    {
      "cell_type": "code",
      "metadata": {
        "colab": {
          "base_uri": "https://localhost:8080/"
        },
        "id": "UJdrRYSLKG8L",
        "outputId": "7d0489ed-60a2-4fde-9482-9e13a151139b"
      },
      "source": [
        "# cast a constant int tensor into floating point\n",
        "tensor = tf.cast(tensor, dtype=tf.float32)\n",
        "tensor.dtype"
      ],
      "execution_count": 24,
      "outputs": [
        {
          "output_type": "execute_result",
          "data": {
            "text/plain": [
              "tf.float32"
            ]
          },
          "metadata": {},
          "execution_count": 24
        }
      ]
    }
  ]
}